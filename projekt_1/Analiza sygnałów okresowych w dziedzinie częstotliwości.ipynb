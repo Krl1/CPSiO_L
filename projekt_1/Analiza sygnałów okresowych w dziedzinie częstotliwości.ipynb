{
 "cells": [
  {
   "cell_type": "markdown",
   "metadata": {},
   "source": [
    "**Ćwiczenie 2.** Celem ćwiczenia jest praktyczne wypróbowanie funkcji numpy.fft\n",
    "i numpy.ifft do wyznaczania prostej i odwrotnej transformaty Fouriera [1, 3]."
   ]
  },
  {
   "cell_type": "markdown",
   "metadata": {},
   "source": [
    "### Wygeneruj ciąg próbek odpowiadający fali sinusoidalnej o częstotliwości 50 Hz i długości 65536."
   ]
  },
  {
   "cell_type": "code",
   "execution_count": null,
   "metadata": {},
   "outputs": [],
   "source": [
    "import plotly.graph_objects as go\n",
    "import numpy as np\n",
    "import pandas as pd"
   ]
  },
  {
   "cell_type": "code",
   "execution_count": null,
   "metadata": {},
   "outputs": [],
   "source": [
    "def draw_sinus(sin,  t_start=0, t_end=1):\n",
    "    fig = go.Figure(data=[\n",
    "        go.Scatter(\n",
    "            x=sin['value'][t_start:t_end].index,\n",
    "            y=sin['value'][t_start:t_end],\n",
    "        )\n",
    "    ])\n",
    "    \n",
    "    fig.update_layout(\n",
    "        title=\"Sinus, 50Hz\",\n",
    "        xaxis_title=\"Time [s]\",\n",
    "        yaxis_title=\"Amplitude\",\n",
    "        font=dict(\n",
    "            family=\"Courier New, monospace\",\n",
    "            size=18,\n",
    "            color=\"#7f7f7f\"\n",
    "        )\n",
    "    )\n",
    "\n",
    "    return fig    \n",
    "\n",
    "\n",
    "t_start = 0\n",
    "t_end = 30\n",
    "\n",
    "sin_t = t_end - t_start\n",
    "length = 65536\n",
    "sin = []\n",
    "sin_f = 50\n",
    "sin_fs = length/sin_t\n",
    "\n",
    "n = np.arange(length)\n",
    "sin = np.sin(2 * np.pi * n * sin_f / sin_fs)\n",
    "\n",
    "sin_df = pd.DataFrame(sin, index=np.arange(0, sin_t, 1/sin_fs).tolist(), columns = ['value'])\n",
    "\n",
    "fig = draw_sinus(sin_df, t_start, t_end/50)\n",
    "fig.write_image(\"images/fig_sinus.png\")\n",
    "fig.show()"
   ]
  },
  {
   "cell_type": "markdown",
   "metadata": {},
   "source": [
    "### Wyznacz dyskretną transformatę Fouriera tego sygnału i przedstaw jego widmo amplitudowe na wykresie w zakresie częstotliwości [0, fs/2], gdzie fs oznacza częstotliwość próbkowania."
   ]
  },
  {
   "cell_type": "code",
   "execution_count": null,
   "metadata": {},
   "outputs": [],
   "source": [
    "def draw_sin_amp_spectrum(df):\n",
    "    fig = go.Figure(data=[\n",
    "        go.Scatter(\n",
    "            x=df['value'].index,\n",
    "            y=df['value'],\n",
    "        )\n",
    "    ])\n",
    "    \n",
    "    fig.update_layout(\n",
    "        title='Pełne widmo sygnału sinusoidalnego f=50 Hz',\n",
    "        xaxis_title=\"Spectrum index\",\n",
    "        yaxis_title=\"Amplitude\",\n",
    "        font=dict(family=\"Courier New, monospace\",size=18,color=\"#7f7f7f\")\n",
    "    )\n",
    "\n",
    "    return fig\n",
    "\n",
    "sin_spectrum = np.fft.fft(sin)\n",
    "sin_spectrum_amp = np.abs(sin_spectrum)\n",
    "\n",
    "sin_spectrum_amp_df = pd.DataFrame(sin_spectrum_amp, index=np.arange(t_start, length, 1).tolist(), columns = ['value'])\n",
    "\n",
    "fig = draw_sin_amp_spectrum(sin_spectrum_amp_df)\n",
    "fig.write_image(\"images/fig_sin_spectrum_amp_df.png\")\n",
    "fig.show()"
   ]
  },
  {
   "cell_type": "code",
   "execution_count": null,
   "metadata": {},
   "outputs": [],
   "source": [
    "def draw_amp_spectrum(df):\n",
    "    fig = go.Figure(data=[\n",
    "        go.Scatter(\n",
    "            x=df['value'].index,\n",
    "            y=df['value'],\n",
    "            fill='tonexty'\n",
    "#             mode='lines+markers',\n",
    "        )\n",
    "    ])\n",
    "    \n",
    "    fig.update_layout(\n",
    "        title='\"Real\" spectrum of a sinusoidal signal f=50 Hz',\n",
    "        xaxis_title=\"Frequency [Hz]\",\n",
    "        yaxis_title=\"Amplitude\",\n",
    "        font=dict(family=\"Courier New, monospace\",size=18,color=\"#7f7f7f\")\n",
    "    )\n",
    "\n",
    "    return fig\n",
    "\n",
    "sin_spectrum_amp = np.abs(np.fft.rfft(sin)) / (length/2)\n",
    "f = np.fft.rfftfreq(length, 1/sin_fs)\n",
    "\n",
    "sin_spectrum_amp_df = pd.DataFrame(sin_spectrum_amp, index=f.tolist(), columns = ['value'])\n",
    "\n",
    "fig = draw_amp_spectrum(sin_spectrum_amp_df)\n",
    "fig.write_image(\"images/fig_sin_spectrum_amp_df.png\")\n",
    "fig.show()"
   ]
  },
  {
   "cell_type": "markdown",
   "metadata": {},
   "source": [
    "### Wygeneruj ciąg próbek mieszaniny dwóch fal sinusoidalnych (tzn. ich kombinacji liniowej) o częstotliwościach 50 i 60 Hz. Wykonaj zadanie z punktu 2 dla tego sygnału.\n"
   ]
  },
  {
   "cell_type": "code",
   "execution_count": null,
   "metadata": {},
   "outputs": [],
   "source": [
    "def draw_linear_combination_sinus(sin_1, sin_2, my_signal, t_start=0, t_end=1):\n",
    "    fig = go.Figure(data=[\n",
    "        go.Scatter(\n",
    "            x=sin_1['value'][t_start:t_end].index,\n",
    "            y=sin_1['value'][t_start:t_end],\n",
    "            name = '50 Hz',\n",
    "            opacity=0.3,\n",
    "        ), \n",
    "        go.Scatter(\n",
    "            x=sin_2['value'][t_start:t_end].index,\n",
    "            y=sin_2['value'][t_start:t_end],\n",
    "            name = '60 Hz',\n",
    "            opacity=0.3,\n",
    "        ), \n",
    "        go.Scatter(\n",
    "            x=my_signal['value'][t_start:t_end].index,\n",
    "            y=my_signal['value'][t_start:t_end],\n",
    "            name = 'Linear combination'\n",
    "        )\n",
    "    ])\n",
    "    \n",
    "    fig.update_layout(\n",
    "        title=\"Linear combination of sinus 50 Hz and sinus 60 Hz\",\n",
    "        xaxis_title=\"Time [s]\",\n",
    "        yaxis_title=\"Amplitude\",\n",
    "        font=dict(\n",
    "            family=\"Courier New, monospace\",\n",
    "            size=18,\n",
    "            color=\"#7f7f7f\"\n",
    "        )\n",
    "    )\n",
    "\n",
    "    return fig    \n",
    "\n",
    "\n",
    "t_start = 0\n",
    "t_end = 30\n",
    "\n",
    "sin_t = t_end - t_start\n",
    "length = 65536\n",
    "sin_f_1 = 50\n",
    "sin_f_2 = 60\n",
    "sin_fs = length/sin_t\n",
    "\n",
    "n = np.arange(length)\n",
    "sin_1 = np.sin(2 * np.pi * n * sin_f_1 / sin_fs)\n",
    "sin_2 = np.sin(2 * np.pi * n * sin_f_2 / sin_fs)\n",
    "my_signal = (1/2 * sin_1 + 1/2 * sin_2)\n",
    "\n",
    "sin_1_df = pd.DataFrame(sin_1, index=np.arange(0, sin_t, 1/sin_fs).tolist(), columns = ['value'])\n",
    "sin_2_df = pd.DataFrame(sin_2, index=np.arange(0, sin_t, 1/sin_fs).tolist(), columns = ['value'])\n",
    "signal_df = pd.DataFrame(my_signal, index=np.arange(0, sin_t, 1/sin_fs).tolist(), columns = ['value'])\n",
    "\n",
    "fig = draw_linear_combination_sinus(sin_1_df,sin_2_df, signal_df, t_start, t_end/200)\n",
    "fig.write_image(\"images/fig_sinus_linear_combination.png\")\n",
    "fig.show()"
   ]
  },
  {
   "cell_type": "code",
   "execution_count": null,
   "metadata": {},
   "outputs": [],
   "source": [
    "signal_spectrum = np.fft.fft(my_signal)\n",
    "signal_df = np.abs(np.fft.rfft(my_signal)) / (length/2)\n",
    "f = np.fft.rfftfreq(length, 1/sin_fs)\n",
    "\n",
    "signal_spectrum_amp_df = pd.DataFrame(signal_df, index=f.tolist(), columns = ['value'])\n",
    "\n",
    "fig = draw_amp_spectrum(signal_spectrum_amp_df)\n",
    "fig.write_image(\"images/fig_signal_spectrum_amp_df.png\")\n",
    "fig.show()"
   ]
  },
  {
   "cell_type": "markdown",
   "metadata": {},
   "source": [
    "### Powtórz eksperymenty dla różnych czasów trwania sygnałów, tzn. dla różnych częstotliwości próbkowania."
   ]
  },
  {
   "cell_type": "code",
   "execution_count": null,
   "metadata": {},
   "outputs": [],
   "source": [
    "def draw_2_4(sin_1, sin_2):\n",
    "    fig = go.Figure(data=[\n",
    "        go.Scatter(\n",
    "            x=sin_1['value'].index,\n",
    "            y=sin_1['value'],\n",
    "            name = 'fs  {}'.format(sin_1_fs),\n",
    "            opacity=0.3,\n",
    "        ), \n",
    "        go.Scatter(\n",
    "            x=sin_2['value'].index,\n",
    "            y=sin_2['value'],\n",
    "            name = 'fs = {}'.format(sin_2_fs),\n",
    "            opacity=0.3,\n",
    "        )\n",
    "    ])\n",
    "    \n",
    "    fig.update_layout(\n",
    "        title=\"Two sines\",\n",
    "        xaxis_title=\"Time [s]\",\n",
    "        yaxis_title=\"Amplitude\",\n",
    "        font=dict(\n",
    "            family=\"Courier New, monospace\",\n",
    "            size=18,\n",
    "            color=\"#7f7f7f\"\n",
    "        )\n",
    "    )\n",
    "\n",
    "    return fig    "
   ]
  },
  {
   "cell_type": "code",
   "execution_count": null,
   "metadata": {},
   "outputs": [],
   "source": [
    "length = 65536\n",
    "sin_f = 50\n",
    "# sin_1_fs = 524288  #1/8 s\n",
    "# sin_2_fs = 131072   #1/2 s\n",
    "sin_1_fs = 16384  #4 s\n",
    "sin_2_fs = 32768   #2 s \n",
    "\n",
    "sin_1_t = length/sin_1_fs\n",
    "t_1_start = 0\n",
    "t_1_end = sin_1_t\n",
    "\n",
    "sin_2_t = length/sin_2_fs\n",
    "t_2_start = 0\n",
    "t_2_end = sin_2_t\n",
    "\n",
    "\n",
    "n = np.arange(length)\n",
    "sin_1 = np.sin(2 * np.pi * n * sin_f / sin_1_fs)\n",
    "sin_2 = np.sin(2 * np.pi * n * sin_f / sin_2_fs)\n",
    "\n",
    "sin_1_df = pd.DataFrame(sin_1, index=np.arange(0, sin_1_t, 1/sin_1_fs).tolist(), columns = ['value'])\n",
    "sin_2_df = pd.DataFrame(sin_2, index=np.arange(0, sin_2_t, 1/sin_2_fs).tolist(), columns = ['value'])\n",
    "\n",
    "fig = draw_2_4(sin_1_df, sin_2_df)\n",
    "fig.write_image(\"images/fig_2_4.png\")\n",
    "fig.show()"
   ]
  },
  {
   "cell_type": "code",
   "execution_count": null,
   "metadata": {},
   "outputs": [],
   "source": [
    "def draw_amp_spectrum_2_4(df_1,df_2):\n",
    "    fig = go.Figure(data=[\n",
    "        go.Scatter(\n",
    "            x=df_1['value'].index,\n",
    "            y=df_1['value'],\n",
    "            name = 'fs  {}'.format(sin_1_fs),\n",
    "#             mode='lines+markers',\n",
    "        ),\n",
    "        go.Scatter(\n",
    "            x=df_2['value'].index,\n",
    "            y=df_2['value'],\n",
    "            name = 'fs  {}'.format(sin_2_fs),\n",
    "#             mode='lines+markers',\n",
    "        )\n",
    "    ])\n",
    "    \n",
    "    fig.update_layout(\n",
    "        title='\"Real\" spectrum of a sinusoidal signal f=50 Hz',\n",
    "        xaxis_title=\"Frequency [Hz]\",\n",
    "        yaxis_title=\"Amplitude\",\n",
    "        font=dict(family=\"Courier New, monospace\",size=18,color=\"#7f7f7f\")\n",
    "    )\n",
    "\n",
    "    return fig\n",
    "\n",
    "sin_1_spectrum = np.fft.fft(sin_1)\n",
    "sin_1_spectrum_amp = np.abs(np.fft.rfft(sin_1)) / (length/2)\n",
    "f_1 = np.fft.rfftfreq(length, 1/sin_1_fs)\n",
    "sin_1_spectrum_amp_df = pd.DataFrame(sin_1_spectrum_amp, index=f_1.tolist(), columns = ['value'])\n",
    "\n",
    "sin_2_spectrum = np.fft.fft(sin_2)\n",
    "sin_2_spectrum_amp = np.abs(np.fft.rfft(sin_2)) / (length/2)\n",
    "f_2 = np.fft.rfftfreq(length, 1/sin_2_fs)\n",
    "sin_2_spectrum_amp_df = pd.DataFrame(sin_2_spectrum_amp, index=f_2.tolist(), columns = ['value'])\n",
    "\n",
    "fig = draw_amp_spectrum_2_4(sin_1_spectrum_amp_df, sin_2_spectrum_amp_df)\n",
    "fig.write_image(\"images/fig_sin_spectrum_amp_df_2_4.png\")\n",
    "fig.show()"
   ]
  },
  {
   "cell_type": "code",
   "execution_count": null,
   "metadata": {},
   "outputs": [],
   "source": [
    "def draw_linear_combination_sinus_2_4(sin_1_1, sin_1_2, signal_1, sin_2_1, sin_2_2, signal_2):\n",
    "    fig = go.Figure(data=[\n",
    "        go.Scatter(\n",
    "            x=sin_1_1['value'].index,\n",
    "            y=sin_1_1['value'],\n",
    "            name = '50 Hz, fs  {}'.format(sin_1_fs),\n",
    "            opacity=0.3,\n",
    "            line=dict(color='rgb(200, 200, 255)'),\n",
    "        ), \n",
    "        go.Scatter(\n",
    "            x=sin_1_2['value'].index,\n",
    "            y=sin_1_2['value'],\n",
    "            name = '60 Hz, fs  {}'.format(sin_1_fs),\n",
    "            opacity=0.3,\n",
    "            line=dict(color='rgb(0, 200, 255)'),\n",
    "        ), \n",
    "        go.Scatter(\n",
    "            x=signal_1['value'].index,\n",
    "            y=signal_1['value'],\n",
    "            name = 'Linear combination, fs  {}'.format(sin_1_fs),\n",
    "            opacity=0.7,\n",
    "            line=dict(color='rgb(0, 0, 255)'),\n",
    "        ),\n",
    "        go.Scatter(\n",
    "            x=sin_2_1['value'].index,\n",
    "            y=sin_2_1['value'],\n",
    "            name = '50 Hz, fs  {}'.format(sin_2_fs),\n",
    "            opacity=0.3,\n",
    "            line=dict(color='rgb(255, 0, 200)'),\n",
    "        ), \n",
    "        go.Scatter(\n",
    "            x=sin_2_2['value'].index,\n",
    "            y=sin_2_2['value'],\n",
    "            name = '60 Hz, fs  {}'.format(sin_2_fs),\n",
    "            opacity=0.3,\n",
    "            line=dict(color='rgb(255, 200, 0)'),\n",
    "        ), \n",
    "        go.Scatter(\n",
    "            x=signal_2['value'].index,\n",
    "            y=signal_2['value'],\n",
    "            name = 'Linear combination, fs  {}'.format(sin_2_fs),\n",
    "            opacity=0.7,\n",
    "            line=dict(color='rgb(255,0,0)'),\n",
    "        )\n",
    "    ])\n",
    "    \n",
    "    fig.update_layout(\n",
    "        title=\"Linear combination of sinus 50 Hz and sinus 60 Hz and fs = {} and {}\".format(sin_1_fs, sin_2_fs),\n",
    "        xaxis_title=\"Time [s]\",\n",
    "        yaxis_title=\"Amplitude\",\n",
    "        font=dict(\n",
    "            family=\"Courier New, monospace\",\n",
    "            size=18,\n",
    "            color=\"#7f7f7f\"\n",
    "        )\n",
    "    )\n",
    "\n",
    "    return fig "
   ]
  },
  {
   "cell_type": "code",
   "execution_count": null,
   "metadata": {},
   "outputs": [],
   "source": [
    "# sin_1_fs = 524288  #1/8 s\n",
    "# sin_2_fs = 131072   #1/2 s\n",
    "sin_1_fs = 16384  #4 s\n",
    "sin_2_fs = 32768   #2 s \n",
    "\n",
    "sin_1_t = length/sin_1_fs\n",
    "t_1_start = 0\n",
    "t_1_end = sin_1_t\n",
    "\n",
    "sin_2_t = length/sin_2_fs\n",
    "t_2_start = 0\n",
    "t_2_end = sin_2_t\n",
    "\n",
    "length = 65536\n",
    "sin_f_1 = 50\n",
    "sin_f_2 = 60\n",
    "\n",
    "n = np.arange(length)\n",
    "\n",
    "sin_1_1 = np.sin(2 * np.pi * n * sin_f_1 / sin_1_fs)\n",
    "sin_1_2 = np.sin(2 * np.pi * n * sin_f_2 / sin_1_fs)\n",
    "signal_1 = (1/2 * sin_1_1 + 1/2 * sin_1_2)\n",
    "\n",
    "sin_2_1 = np.sin(2 * np.pi * n * sin_f_1 / sin_2_fs)\n",
    "sin_2_2 = np.sin(2 * np.pi * n * sin_f_2 / sin_2_fs)\n",
    "signal_2 = (1/2 * sin_2_1 + 1/2 * sin_2_2)\n",
    "\n",
    "sin_1_1_df = pd.DataFrame(sin_1_1, index=np.arange(0, sin_1_t, 1/sin_1_fs).tolist(), columns = ['value'])\n",
    "sin_1_2_df = pd.DataFrame(sin_1_2, index=np.arange(0, sin_1_t, 1/sin_1_fs).tolist(), columns = ['value'])\n",
    "signal_1_df = pd.DataFrame(signal_1, index=np.arange(0, sin_1_t, 1/sin_1_fs).tolist(), columns = ['value'])\n",
    "\n",
    "sin_2_1_df = pd.DataFrame(sin_2_1, index=np.arange(0, sin_2_t, 1/sin_2_fs).tolist(), columns = ['value'])\n",
    "sin_2_2_df = pd.DataFrame(sin_2_2, index=np.arange(0, sin_2_t, 1/sin_2_fs).tolist(), columns = ['value'])\n",
    "signal_2_df = pd.DataFrame(signal_2, index=np.arange(0, sin_2_t, 1/sin_2_fs).tolist(), columns = ['value'])\n",
    "\n",
    "fig = draw_linear_combination_sinus_2_4(sin_1_1_df,sin_1_2_df, signal_1_df,sin_2_1_df,sin_2_2_df, signal_2_df)\n",
    "fig.write_image(\"images/fig_sinus_linear_combination_2_4.png\")\n",
    "fig.show()"
   ]
  },
  {
   "cell_type": "code",
   "execution_count": null,
   "metadata": {},
   "outputs": [],
   "source": [
    "signal_1_spectrum = np.fft.fft(signal_1)\n",
    "signal_1_df = np.abs(np.fft.rfft(signal_1)) / (length/2)\n",
    "f_1 = np.fft.rfftfreq(length, 1/sin_1_fs)\n",
    "signal_1_spectrum_amp_df = pd.DataFrame(signal_1_df, index=f_1.tolist(), columns = ['value'])\n",
    "\n",
    "signal_2_spectrum = np.fft.fft(signal_2)\n",
    "signal_2_df = np.abs(np.fft.rfft(signal_2)) / (length/2)\n",
    "f_2 = np.fft.rfftfreq(length, 1/sin_2_fs)\n",
    "signal_2_spectrum_amp_df = pd.DataFrame(signal_2_df, index=f_2.tolist(), columns = ['value'])\n",
    "\n",
    "fig = draw_amp_spectrum_2_4(signal_1_spectrum_amp_df, signal_2_spectrum_amp_df)\n",
    "fig.write_image(\"images/fig_signal_spectrum_amp_df_2_4.png\")\n",
    "fig.show()"
   ]
  },
  {
   "cell_type": "markdown",
   "metadata": {},
   "source": [
    "### Wyznacz odwrotne transformaty Fouriera ciągów wyznaczonych w zadaniu 2 i porównaj z ciągami oryginalnymi."
   ]
  },
  {
   "cell_type": "code",
   "execution_count": null,
   "metadata": {},
   "outputs": [],
   "source": [
    "def signal_vs_signal_after_fft_and_ifft(original, after):\n",
    "    fig = go.Figure(\n",
    "        data = [\n",
    "            go.Scatter(y=original, name=\"Oryginal\"),\n",
    "            go.Scatter(y=after, name=\"After\"),\n",
    "            go.Scatter(y=original-after, name=\"Difference\")\n",
    "        ]\n",
    "    )\n",
    "    return fig"
   ]
  },
  {
   "cell_type": "markdown",
   "metadata": {},
   "source": [
    "sin_spectrum, sin_1_spectrum, sin_2_spectrum, signal_spectrum, signal_1_spectrum, signal_2_spectrum"
   ]
  },
  {
   "cell_type": "markdown",
   "metadata": {},
   "source": [
    "#### sin"
   ]
  },
  {
   "cell_type": "code",
   "execution_count": null,
   "metadata": {},
   "outputs": [],
   "source": [
    "fig_sin = signal_vs_signal_after_fft_and_ifft(sin, np.real(np.fft.ifft(np.fft.fft(sin))))\n",
    "fig_sin.show()"
   ]
  },
  {
   "cell_type": "markdown",
   "metadata": {},
   "source": [
    "#### sin_1"
   ]
  },
  {
   "cell_type": "code",
   "execution_count": null,
   "metadata": {},
   "outputs": [],
   "source": [
    "fig_sin = signal_vs_signal_after_fft_and_ifft(sin_1, np.real(np.fft.ifft(np.fft.fft(sin_1))))\n",
    "fig_sin.show()"
   ]
  },
  {
   "cell_type": "markdown",
   "metadata": {},
   "source": [
    "#### sin_2"
   ]
  },
  {
   "cell_type": "code",
   "execution_count": null,
   "metadata": {},
   "outputs": [],
   "source": [
    "fig_sin = signal_vs_signal_after_fft_and_ifft(sin_2, np.real(np.fft.ifft(np.fft.fft(sin_2))))\n",
    "fig_sin.show()"
   ]
  },
  {
   "cell_type": "markdown",
   "metadata": {},
   "source": [
    "#### signal"
   ]
  },
  {
   "cell_type": "code",
   "execution_count": null,
   "metadata": {},
   "outputs": [],
   "source": [
    "fig_sin = signal_vs_signal_after_fft_and_ifft(my_signal, np.real(np.fft.ifft(np.fft.fft(my_signal))))\n",
    "fig_sin.show()"
   ]
  },
  {
   "cell_type": "markdown",
   "metadata": {},
   "source": [
    "#### signal_1"
   ]
  },
  {
   "cell_type": "code",
   "execution_count": null,
   "metadata": {},
   "outputs": [],
   "source": [
    "fig_sin = signal_vs_signal_after_fft_and_ifft(signal_1, np.real(np.fft.ifft(np.fft.fft(signal_1))))\n",
    "fig_sin.show()"
   ]
  },
  {
   "cell_type": "markdown",
   "metadata": {},
   "source": [
    "#### signal_2"
   ]
  },
  {
   "cell_type": "code",
   "execution_count": null,
   "metadata": {},
   "outputs": [],
   "source": [
    "fig_sin = signal_vs_signal_after_fft_and_ifft(signal_2, np.real(np.fft.ifft(np.fft.fft(signal_2))))\n",
    "fig_sin.show()"
   ]
  }
 ],
 "metadata": {
  "kernelspec": {
   "display_name": "Python 3",
   "language": "python",
   "name": "python3"
  },
  "language_info": {
   "codemirror_mode": {
    "name": "ipython",
    "version": 3
   },
   "file_extension": ".py",
   "mimetype": "text/x-python",
   "name": "python",
   "nbconvert_exporter": "python",
   "pygments_lexer": "ipython3",
   "version": "3.7.4"
  },
  "toc": {
   "base_numbering": 1,
   "nav_menu": {},
   "number_sections": true,
   "sideBar": true,
   "skip_h1_title": false,
   "title_cell": "Table of Contents",
   "title_sidebar": "Contents",
   "toc_cell": false,
   "toc_position": {},
   "toc_section_display": true,
   "toc_window_display": false
  }
 },
 "nbformat": 4,
 "nbformat_minor": 2
}
