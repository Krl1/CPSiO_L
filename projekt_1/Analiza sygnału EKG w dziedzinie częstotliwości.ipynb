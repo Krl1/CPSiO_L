{
 "cells": [
  {
   "cell_type": "markdown",
   "metadata": {},
   "source": [
    "**Ćwiczenie 3.** Celem ćwiczenia jest obserwacja widma sygnału EKG."
   ]
  },
  {
   "cell_type": "markdown",
   "metadata": {},
   "source": [
    "### Wczytać sygnał ecg100.txt i ocenić go wizualnie na wykresie"
   ]
  },
  {
   "cell_type": "code",
   "execution_count": null,
   "metadata": {},
   "outputs": [],
   "source": [
    "import pandas as pd\n",
    "import numpy as np\n",
    "import plotly.graph_objects as go"
   ]
  },
  {
   "cell_type": "code",
   "execution_count": null,
   "metadata": {},
   "outputs": [],
   "source": [
    "ekg100 = pd.read_csv('../data/ekg100.txt', names=['k'])\n",
    "fs = 360 #częstotliwość próbkowania sygnału w Hz\n",
    "y=ekg100['k']\n",
    "length=524288\n",
    "y=y[0:length]\n",
    "time = (y.shape[0]-1)/fs #czas trwania sygnału w sekudnach - 1805.5527777777777\n",
    "x=np.arange(0,time+1/fs,1/fs)\n",
    "x=x[0:length]"
   ]
  },
  {
   "cell_type": "code",
   "execution_count": null,
   "metadata": {},
   "outputs": [],
   "source": [
    "def draw_ekg100(t_start=0, t_end=time):\n",
    "    fig = go.Figure(data=[\n",
    "        go.Scatter(\n",
    "            x=x[t_start*fs:t_end*fs],\n",
    "            y=y[t_start*fs:t_end*fs],\n",
    "        )\n",
    "    ])\n",
    "    \n",
    "    fig.update_layout(\n",
    "        title=\"Ekg 100\",\n",
    "        xaxis_title=\"Time [s]\",\n",
    "        yaxis_title=\"Amplitude\",\n",
    "        font=dict(family=\"Courier New, monospace\",size=18,color=\"#7f7f7f\"))\n",
    "\n",
    "    return fig    "
   ]
  },
  {
   "cell_type": "code",
   "execution_count": null,
   "metadata": {},
   "outputs": [],
   "source": [
    "t_start = 0\n",
    "t_end = 10\n",
    "if (t_end > time):\n",
    "    t_end = time\n",
    "    \n",
    "fig = draw_ekg100(t_start, t_end)\n",
    "fig.show()"
   ]
  },
  {
   "cell_type": "markdown",
   "metadata": {},
   "source": [
    "Sygnał jest okresowy, z T~0.645 s, na każdy okres przypada jeden pik. "
   ]
  },
  {
   "cell_type": "markdown",
   "metadata": {},
   "source": [
    "### Wyznaczyć jego dyskretną transformatę Fouriera i przedstawić widmo amplitudowe sygnału w funkcji częstotliwości w zakresie [0, fs/2], gdzie fs oznacza częstotliwość próbkowania"
   ]
  },
  {
   "cell_type": "code",
   "execution_count": null,
   "metadata": {},
   "outputs": [],
   "source": [
    "def draw_spectrum(x, y, title):\n",
    "    fig = go.Figure(data=[go.Scatter(x=x,y=y)])\n",
    "    \n",
    "    fig.update_layout(\n",
    "        title=title,\n",
    "        xaxis_title=\"Częstotliwość [Hz]\",\n",
    "        yaxis_title=\"Amplituda widma\",\n",
    "        font=dict(family=\"Courier New, monospace\",size=18,color=\"#7f7f7f\"))\n",
    "\n",
    "    return fig"
   ]
  },
  {
   "cell_type": "code",
   "execution_count": null,
   "metadata": {},
   "outputs": [],
   "source": [
    "spectrum_center = y - y.mean()\n",
    "spectrum_center = np.abs(np.fft.rfft(spectrum_center)) / (length//2)\n",
    "x_spectrum = np.fft.rfftfreq(length, 1/fs)\n",
    "title = 'Widmo sygnału ekg100'\n",
    "fig_real = draw_spectrum(x_spectrum, spectrum_center, title)\n",
    "fig_real.show()"
   ]
  },
  {
   "cell_type": "markdown",
   "metadata": {},
   "source": [
    "### Wyznaczyć odwrotną dyskretną transformatę Fouriera ciągu wyznaczonego w punkcie 2 i porównać otrzymany ciąg próbek z pierwotnym sygnałem ecg100 (można wyznaczyć różnicę sygnałów).\n"
   ]
  },
  {
   "cell_type": "code",
   "execution_count": null,
   "metadata": {},
   "outputs": [],
   "source": [
    "def ekg_diff(original, after, t_start=0, t_end=time):\n",
    "    fig = go.Figure(\n",
    "        data = [\n",
    "            go.Scatter(y=original[int(t_start*fs):int(t_end*fs)], name=\"Oryginal\"),\n",
    "            go.Scatter(y=after[int(t_start*fs):int(t_end*fs)], name=\"After\"),\n",
    "            go.Scatter(y=original[int(t_start*fs):int(t_end*fs)]-after[int(t_start*fs):int(t_end*fs)], name=\"Difference\")\n",
    "        ]\n",
    "    )\n",
    "    return fig"
   ]
  },
  {
   "cell_type": "code",
   "execution_count": null,
   "metadata": {},
   "outputs": [],
   "source": [
    "spectrum = np.fft.fft(y)\n",
    "inverse = spectrum = np.fft.ifft(spectrum)\n",
    "fig_ekg100 = ekg_diff(y, np.real(inverse),0, 10)\n",
    "fig_ekg100.show()"
   ]
  },
  {
   "cell_type": "code",
   "execution_count": null,
   "metadata": {},
   "outputs": [],
   "source": []
  }
 ],
 "metadata": {
  "kernelspec": {
   "display_name": "Python 3",
   "language": "python",
   "name": "python3"
  },
  "language_info": {
   "codemirror_mode": {
    "name": "ipython",
    "version": 3
   },
   "file_extension": ".py",
   "mimetype": "text/x-python",
   "name": "python",
   "nbconvert_exporter": "python",
   "pygments_lexer": "ipython3",
   "version": "3.7.4"
  },
  "toc": {
   "base_numbering": 1,
   "nav_menu": {},
   "number_sections": true,
   "sideBar": true,
   "skip_h1_title": false,
   "title_cell": "Table of Contents",
   "title_sidebar": "Contents",
   "toc_cell": false,
   "toc_position": {},
   "toc_section_display": true,
   "toc_window_display": false
  }
 },
 "nbformat": 4,
 "nbformat_minor": 2
}
